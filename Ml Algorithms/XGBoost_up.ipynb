{
  "nbformat": 4,
  "nbformat_minor": 0,
  "metadata": {
    "colab": {
      "provenance": []
    },
    "kernelspec": {
      "name": "python3",
      "display_name": "Python 3"
    },
    "language_info": {
      "name": "python"
    }
  },
  "cells": [
    {
      "cell_type": "code",
      "execution_count": 1,
      "metadata": {
        "colab": {
          "base_uri": "https://localhost:8080/"
        },
        "id": "X_fvAk_ES2sb",
        "outputId": "265b4fe7-7b20-449d-b96e-1570091ea47f"
      },
      "outputs": [
        {
          "output_type": "stream",
          "name": "stdout",
          "text": [
            "📊 Regression Evaluation (XGBoost)\n",
            "MAE: 0.01656605303287506\n",
            "MSE: 0.003453802317380905\n",
            "R² Score: 0.9968744516372681\n"
          ]
        },
        {
          "output_type": "stream",
          "name": "stderr",
          "text": [
            "/usr/local/lib/python3.11/dist-packages/xgboost/training.py:183: UserWarning: [06:23:08] WARNING: /workspace/src/learner.cc:738: \n",
            "Parameters: { \"use_label_encoder\" } are not used.\n",
            "\n",
            "  bst.update(dtrain, iteration=i, fobj=obj)\n"
          ]
        },
        {
          "output_type": "stream",
          "name": "stdout",
          "text": [
            "\n",
            "📊 Classification Evaluation (XGBoost)\n",
            "Accuracy: 0.998\n",
            "Confusion Matrix:\n",
            " [[   8    1    0]\n",
            " [   0 1610    4]\n",
            " [   0    1 1376]]\n",
            "Classification Report:\n",
            "               precision    recall  f1-score   support\n",
            "\n",
            "        Poor       1.00      0.89      0.94         9\n",
            "     Average       1.00      1.00      1.00      1614\n",
            "        Good       1.00      1.00      1.00      1377\n",
            "\n",
            "    accuracy                           1.00      3000\n",
            "   macro avg       1.00      0.96      0.98      3000\n",
            "weighted avg       1.00      1.00      1.00      3000\n",
            "\n"
          ]
        }
      ],
      "source": [
        "# 🧠 XGBoost Regression and Classification on Sleep Dataset\n",
        "\n",
        "# 📌 Step 1: Import Libraries\n",
        "import pandas as pd\n",
        "import numpy as np\n",
        "from xgboost import XGBRegressor, XGBClassifier\n",
        "from sklearn.model_selection import train_test_split\n",
        "from sklearn.preprocessing import LabelEncoder, StandardScaler\n",
        "from sklearn.metrics import (\n",
        "    mean_absolute_error, mean_squared_error, r2_score,\n",
        "    accuracy_score, classification_report, confusion_matrix\n",
        ")\n",
        "\n",
        "# 📂 Step 2: Load and Clean Dataset\n",
        "df = pd.read_csv('Sleep_Data_Sampled(missing_Dis).csv')\n",
        "df.drop(columns=['Person ID'], inplace=True)\n",
        "\n",
        "# Label Encode Categorical Columns\n",
        "categorical_cols = ['Gender', 'Occupation', 'BMI Category', 'Blood Pressure']\n",
        "for col in categorical_cols:\n",
        "    df[col] = LabelEncoder().fit_transform(df[col])\n",
        "\n",
        "# 🎯 Step 3: Define Features and Targets\n",
        "X = df.drop(columns=['Quality of Sleep'])\n",
        "y_reg = df['Quality of Sleep']\n",
        "y_class = y_reg.apply(lambda x: 0 if x <= 4 else (1 if x <= 7 else 2))  # Classification target\n",
        "\n",
        "# ⚖ Step 4: Feature Scaling\n",
        "scaler = StandardScaler()\n",
        "X_scaled = scaler.fit_transform(X)\n",
        "\n",
        "# 🔀 Step 5: Train/Test Split\n",
        "X_train_r, X_test_r, y_train_r, y_test_r = train_test_split(X_scaled, y_reg, test_size=0.2, random_state=42)\n",
        "X_train_c, X_test_c, y_train_c, y_test_c = train_test_split(X_scaled, y_class, test_size=0.2, random_state=42)\n",
        "\n",
        "# 🟢 Step 6A: XGBoost Regression\n",
        "regressor = XGBRegressor(random_state=42, n_estimators=100)\n",
        "regressor.fit(X_train_r, y_train_r)\n",
        "y_pred_r = regressor.predict(X_test_r)\n",
        "\n",
        "print(\"📊 Regression Evaluation (XGBoost)\")\n",
        "print(\"MAE:\", mean_absolute_error(y_test_r, y_pred_r))\n",
        "print(\"MSE:\", mean_squared_error(y_test_r, y_pred_r))\n",
        "print(\"R² Score:\", r2_score(y_test_r, y_pred_r))\n",
        "\n",
        "# 🟢 Step 6B: XGBoost Classification\n",
        "classifier = XGBClassifier(random_state=42, use_label_encoder=False, eval_metric='mlogloss')\n",
        "classifier.fit(X_train_c, y_train_c)\n",
        "y_pred_c = classifier.predict(X_test_c)\n",
        "\n",
        "print(\"\\n📊 Classification Evaluation (XGBoost)\")\n",
        "print(\"Accuracy:\", accuracy_score(y_test_c, y_pred_c))\n",
        "print(\"Confusion Matrix:\\n\", confusion_matrix(y_test_c, y_pred_c))\n",
        "print(\"Classification Report:\\n\", classification_report(y_test_c, y_pred_c, target_names=[\"Poor\", \"Average\", \"Good\"]))\n"
      ]
    }
  ]
}