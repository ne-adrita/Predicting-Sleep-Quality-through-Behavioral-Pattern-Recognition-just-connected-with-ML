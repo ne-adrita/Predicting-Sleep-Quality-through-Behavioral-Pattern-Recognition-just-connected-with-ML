{
  "nbformat": 4,
  "nbformat_minor": 0,
  "metadata": {
    "colab": {
      "provenance": [],
      "authorship_tag": "ABX9TyMdwxdwS4rt6QPg9m711uOE",
      "include_colab_link": true
    },
    "kernelspec": {
      "name": "python3",
      "display_name": "Python 3"
    },
    "language_info": {
      "name": "python"
    }
  },
  "cells": [
    {
      "cell_type": "markdown",
      "metadata": {
        "id": "view-in-github",
        "colab_type": "text"
      },
      "source": [
        "<a href=\"https://colab.research.google.com/github/ne-adrita/Predicting-Sleep-Quality-through-Behavioral-Pattern-Recognition/blob/main/KNN_up.ipynb\" target=\"_parent\"><img src=\"https://colab.research.google.com/assets/colab-badge.svg\" alt=\"Open In Colab\"/></a>"
      ]
    },
    {
      "cell_type": "code",
      "execution_count": 1,
      "metadata": {
        "colab": {
          "base_uri": "https://localhost:8080/"
        },
        "id": "VpXwAHupRhEO",
        "outputId": "7e541660-3db9-4cc0-fc9f-c36cb48127b2"
      },
      "outputs": [
        {
          "output_type": "stream",
          "name": "stdout",
          "text": [
            "📊 Regression Evaluation (KNN)\n",
            "MAE: 0.031866666666666675\n",
            "MSE: 0.020106666666666665\n",
            "R² Score: 0.9818043442128191\n",
            "\n",
            "📊 Classification Evaluation (KNN)\n",
            "Accuracy: 0.9903333333333333\n",
            "Confusion Matrix:\n",
            " [[   7    2    0]\n",
            " [   0 1598   16]\n",
            " [   0   11 1366]]\n",
            "Classification Report:\n",
            "               precision    recall  f1-score   support\n",
            "\n",
            "        Poor       1.00      0.78      0.88         9\n",
            "     Average       0.99      0.99      0.99      1614\n",
            "        Good       0.99      0.99      0.99      1377\n",
            "\n",
            "    accuracy                           0.99      3000\n",
            "   macro avg       0.99      0.92      0.95      3000\n",
            "weighted avg       0.99      0.99      0.99      3000\n",
            "\n"
          ]
        }
      ],
      "source": [
        "# 🧠 KNN Regression and Classification on Sleep Dataset\n",
        "\n",
        "# 📌 Step 1: Import Libraries\n",
        "import pandas as pd\n",
        "import numpy as np\n",
        "from sklearn.model_selection import train_test_split\n",
        "from sklearn.preprocessing import LabelEncoder, StandardScaler\n",
        "from sklearn.neighbors import KNeighborsRegressor, KNeighborsClassifier\n",
        "from sklearn.metrics import (\n",
        "    mean_absolute_error, mean_squared_error, r2_score,\n",
        "    accuracy_score, classification_report, confusion_matrix\n",
        ")\n",
        "\n",
        "# 📂 Step 2: Load and Clean Dataset\n",
        "df = pd.read_csv('Sleep_Data_Sampled(missing_Dis).csv')\n",
        "df.drop(columns=['Person ID'], inplace=True)\n",
        "\n",
        "# Label Encode Categorical Columns\n",
        "categorical_cols = ['Gender', 'Occupation', 'BMI Category', 'Blood Pressure']\n",
        "for col in categorical_cols:\n",
        "    df[col] = LabelEncoder().fit_transform(df[col])\n",
        "\n",
        "# 🎯 Step 3: Define Features and Targets\n",
        "X = df.drop(columns=['Quality of Sleep'])\n",
        "y_reg = df['Quality of Sleep']\n",
        "y_class = y_reg.apply(lambda x: 0 if x <= 4 else (1 if x <= 7 else 2))  # Classification target\n",
        "\n",
        "# ⚖ Step 4: Feature Scaling\n",
        "scaler = StandardScaler()\n",
        "X_scaled = scaler.fit_transform(X)\n",
        "\n",
        "# 🔀 Step 5: Train/Test Split\n",
        "X_train_r, X_test_r, y_train_r, y_test_r = train_test_split(X_scaled, y_reg, test_size=0.2, random_state=42)\n",
        "X_train_c, X_test_c, y_train_c, y_test_c = train_test_split(X_scaled, y_class, test_size=0.2, random_state=42)\n",
        "\n",
        "# 🟢 Step 6A: KNN Regression\n",
        "regressor = KNeighborsRegressor(n_neighbors=5)\n",
        "regressor.fit(X_train_r, y_train_r)\n",
        "y_pred_r = regressor.predict(X_test_r)\n",
        "\n",
        "print(\"📊 Regression Evaluation (KNN)\")\n",
        "print(\"MAE:\", mean_absolute_error(y_test_r, y_pred_r))\n",
        "print(\"MSE:\", mean_squared_error(y_test_r, y_pred_r))\n",
        "print(\"R² Score:\", r2_score(y_test_r, y_pred_r))\n",
        "\n",
        "# 🟢 Step 6B: KNN Classification\n",
        "classifier = KNeighborsClassifier(n_neighbors=5)\n",
        "classifier.fit(X_train_c, y_train_c)\n",
        "y_pred_c = classifier.predict(X_test_c)\n",
        "\n",
        "print(\"\\n📊 Classification Evaluation (KNN)\")\n",
        "print(\"Accuracy:\", accuracy_score(y_test_c, y_pred_c))\n",
        "print(\"Confusion Matrix:\\n\", confusion_matrix(y_test_c, y_pred_c))\n",
        "print(\"Classification Report:\\n\", classification_report(y_test_c, y_pred_c, target_names=[\"Poor\", \"Average\", \"Good\"]))\n"
      ]
    }
  ]
}